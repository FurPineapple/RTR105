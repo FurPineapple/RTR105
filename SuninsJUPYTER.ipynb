{
 "cells": [
  {
   "cell_type": "code",
   "execution_count": 1,
   "metadata": {},
   "outputs": [
    {
     "name": "stdout",
     "output_type": "stream",
     "text": [
      "Lietotajs, ludzu, ievadi argmumentu(x):2\n",
      "asinh(2.00)=  1.44\n",
      "Izdruka no liet.f. a0=  2.00 S0=  2.00\n",
      "Izdruka no liet.f.a499=-82653991580636370057234650262269840137308658103370682977826448743053426796147872640162942522574070390761011841425184319928458283297804705918286299136.00S499=-55084256716002100952870290154936132310223376867444410426915355434474604959360118594433695432581109699079796925321304403846108865389824729052168060928.00\n",
      "Izdruka no liet.f. a500=165142675178111468714463729144040345044658469684042984804223503355863420382701004274349246619180413773405251412669092273872958861582279367379157778432.00 S500=110058418462109367761593438989104212734435092816598574377308147921388815423340885679915551186599304074325454487347787870026849996192454638326989717504.00\n",
      "fasinh(2.00)=110058418462109367761593438989104212734435092816598574377308147921388815423340885679915551186599304074325454487347787870026849996192454638326989717504.00\n",
      "                500                              \n",
      "             ____________                        \n",
      "             \\            k                2k+1  \n",
      "              \\       (-1)! * (2*k)!  * (x)      \n",
      "ahinh(2.00)=  \\  ____________________________   \n",
      "               /    k      2                     \n",
      "              /    4  * (k!) * (2*k+1)            \n",
      "             /___________                        \n",
      "                  k = 0                          \n"
     ]
    }
   ],
   "source": [
    "from math import asinh\n",
    "import math\n",
    "\n",
    "def fasinh(x):\n",
    "    k=0\n",
    "    a=(((-1)**0)*1*x**1)/((4**0)*(1**2)*1)\n",
    "    S=a\n",
    "    print(\"Izdruka no liet.f. a0=%6.2f S0=%6.2f\"%(a,S))\n",
    "\n",
    "    while k<500:\n",
    "        k=k+1\n",
    "        R=((-1**1)*(2*k-1)*(2*k)*(x**2))/((4**1)*(k**2)*2)\n",
    "        a=a*R\n",
    "        S=S+a\n",
    "        if k==499:\n",
    "            print(\"Izdruka no liet.f.a%d=%6.2fS%d=%6.2f\"%(k,a,k,S))\n",
    "    print(\"Izdruka no liet.f. a500=%6.2f S500=%6.2f\"%(a,S))\n",
    "    return S\n",
    "x=float(input(\"Lietotajs, ludzu, ievadi argmumentu(x):\"))\n",
    "y=asinh(x)\n",
    "print(\"asinh(%.2f)=%6.2f\"%(x,y))\n",
    "\n",
    "yy=fasinh(x)\n",
    "print(\"fasinh(%.2f)=%6.2f\"%(x,yy))\n",
    "\n",
    "print(\"                500                              \")\n",
    "print(\"             ____________                        \")\n",
    "print(\"             \\            k                2k+1  \")\n",
    "print(\"              \\       (-1)! * (2*k)!  * (x)      \")\n",
    "print(\"ahinh(%.2f)=  \\  ____________________________   \"%(x))\n",
    "print(\"               /    k      2                     \")\n",
    "print(\"              /    4  * (k!) * (2*k+1)            \")\n",
    "print(\"             /___________                        \")\n",
    "print(\"                  k = 0                          \")\n"
   ]
  },
  {
   "cell_type": "code",
   "execution_count": 2,
   "metadata": {},
   "outputs": [
    {
     "data": {
      "text/plain": [
       "<Figure size 640x480 with 1 Axes>"
      ]
     },
     "metadata": {},
     "output_type": "display_data"
    }
   ],
   "source": [
    "import sys\n",
    "sys.path.append('/usr/local/anaconda3/lib/python3.6/site-packages')\n",
    "\n",
    "#print(vars())\n",
    "\n",
    "from numpy import cos, sin, linspace\n",
    "\n",
    "#x = linspace(0, 7, 70) #solis = (7-0)/(70-1)\n",
    "x = linspace(0, 4, 11) #solis = (4-0)(11-1)\n",
    "y = cos(x)\n",
    "y1 = sin(x)\n",
    "#print(vars())\n",
    "\n",
    "from matplotlib import pyplot as plt\n",
    "plt.grid()\n",
    "plt.xlabel('x')\n",
    "plt.ylabel('f(x)')\n",
    "plt.title('Funkcija $cos(x)$ un $sin(x)@')\n",
    "plt.plot(x, y, color = \"#FF1588\")\n",
    "plt.plot(x, y1, color = \"#00BB66\")\n",
    "plt.plot(x, y1, \"bo\")\n",
    "plt.plot(x, y, \"ko\")\n",
    "plt.legend([\"$cos(x)$\", \"$cos(x)$\", \"$sin(x)$\", \"$sin(x)$\"])\n",
    "plt.show()\n"
   ]
  },
  {
   "cell_type": "code",
   "execution_count": 3,
   "metadata": {},
   "outputs": [
    {
     "name": "stdout",
     "output_type": "stream",
     "text": [
      "Dotajā intervālā sakne(s) ir!\n",
      "Sakne ir:  -2.220446049250313e-16\n",
      "f(x)= -2.220446049250313e-16\n",
      "k= 26\n"
     ]
    }
   ],
   "source": [
    "#f(x)=arcsinh(x) Attēlotā funkcijā krustojuma punkts ir noverots,\n",
    "#f(x)=0, kad x=3,14159+pi*n, kur n=Z.\n",
    "\n",
    "from math import asinh,fabs\n",
    "from time import sleep\n",
    "\n",
    "def f(x):\n",
    "    return asinh(x)\n",
    "k=0\n",
    "# Definejam argumenta x robežas:\n",
    "a=-1\n",
    "b=2\n",
    "# Apreķinam funkcijas vērtības dotajos punktos:\n",
    "funa=f(a)\n",
    "funb=f(b)\n",
    "# Pārbaudam, vai dotajā intervālā ir saknes:\n",
    "if(funa*funb>0.0):\n",
    "    print(\"Dotajā intervālā[%s,%s] sakņu nav\"%(a,b))\n",
    "    sleep(1);exit()     #Ziņo uz ekrāna, gaida 1 sec. un darbu pabeidz\n",
    "else:\n",
    "    print(\"Dotajā intervālā sakne(s) ir!\")\n",
    "# Definējam precizitāti, ar kādu meklēsim sakni:\n",
    "deltax=0.000000000000001\n",
    "# Sašaurinam saknes meklēšanas robežas:\n",
    "while(fabs(b-a)>deltax):\n",
    "    x=(a+b)/2;funx=f(x)\n",
    "    if (funa*funx<0.):\n",
    "        b=x\n",
    "        k=k+1\n",
    "    else:\n",
    "        a=x\n",
    "print(\"Sakne ir: \",x)\n",
    "print(\"f(x)=\", asinh(x))\n",
    "print(\"k=\", k)\n"
   ]
  },
  {
   "cell_type": "code",
   "execution_count": 4,
   "metadata": {},
   "outputs": [
    {
     "data": {
      "image/png": "[encoded data removed]",
      "text/plain": [
       "<Figure size 432x288 with 1 Axes>"
      ]
     },
     "metadata": {
      "needs_background": "light"
     },
     "output_type": "display_data"
    }
   ],
   "source": [
    "#print(vars())\n",
    "import sys\n",
    "sys.path.append('/usr/local/anaconda3/lib/python3.6/site-packages')\n",
    "#print(vars())\n",
    "\n",
    "from numpy import arcsinh, linspace\n",
    "#print(vars())\n",
    "\n",
    "def f(x):\n",
    "    return arcsinh(x)\n",
    "\n",
    "\n",
    "x = linspace(0,41,101)\n",
    "#print(vars())\n",
    "\n",
    "y = f(x)\n",
    "\n",
    "legend = []\n",
    "#print(legend)\n",
    "\n",
    "from matplotlib import pyplot as plt\n",
    "#print(plt.plot.__doc__)\n",
    "plt.axis([0, 41, -3, 5])\n",
    "plt.grid()\n",
    "plt.xlabel(\"x\")\n",
    "plt.ylabel(\"f(x)\")\n",
    "plt.title(\"Funkcija $arcsinh(x)$ un taas atvasinaajumi\")\n",
    "plt.plot(x,y,\"k\")\n",
    "legend.append(\"$arcsinh(x)$ - default - viss ir savienots ar taisnaam liinijaam\")\n",
    "#print(legend)\n",
    "plt.plot(x,y,\"ro\")\n",
    "legend.append(\"$arcsinh(x)$ - tikai dazhi punkti\")\n",
    "#print(legend)\n",
    "\n",
    "N = len(x)\n",
    "deltax = x[1] - x[0]\n",
    "derivative = []\n",
    "\n",
    "for i in range(N):\n",
    "    temp = (f(x[i] + deltax) - f(x[i])) / deltax\n",
    "    derivative.append(temp)\n",
    "\n",
    "plt.plot(x,derivative,\"y\")\n",
    "legend.append(\"$arcsinh(x)$ atvasinaajums - viss ir savienots ar taisnaam liinijaam\")\n",
    "plt.plot(x,derivative,\"go\")\n",
    "legend.append(\"$arcsinh(x)$ atvasinaajums - dazhi punkti\")\n",
    "\n",
    "derivative_through_array = []\n",
    "\n",
    "for i in range(N-1):\n",
    "    temp = (y[i+1] - y[i]) / (x[i+1] - x[i])\n",
    "    derivative_through_array.append(temp)\n",
    "\n",
    "plt.plot(x[0:N-1],derivative_through_array,\"m\")\n",
    "legend.append(\"$arcsinh(x)$ atvasinaajums, izmantojot masiiva veertiibas, - viss ir savienots ar taisnaam liinijaam\")\n",
    "plt.plot(x[0:N-1],derivative_through_array,\"bo\")\n",
    "legend.append(\"$arcsinh(x)$ atvasinaajums, izmantojot massiva veertiibas - dazhi punkti\")\n",
    "\n",
    "plt.plot(0.680,0.620,'ch',markersize = 20)\n",
    "plt.legend(legend, loc = \"lower left\")\n",
    "#plt.legend(legend, loc = 3, fancybox=True, framealpha=0.5, facecolor=\"green\")\n",
    "plt.show()\n"
   ]
  },
  {
   "cell_type": "code",
   "execution_count": 5,
   "metadata": {},
   "outputs": [
    {
     "name": "stdout",
     "output_type": "stream",
     "text": [
      "[1959, 2050, 2002, 1943, 2046]\n",
      "10000\n",
      "12.575\n"
     ]
    },
    {
     "data": {
      "image/png": "[encoded data removed]",
      "text/plain": [
       "<Figure size 432x288 with 1 Axes>"
      ]
     },
     "metadata": {
      "needs_background": "light"
     },
     "output_type": "display_data"
    }
   ],
   "source": [
    "# N uniformly distributed random numbers\n",
    "\n",
    "import sys\n",
    "sys.path.append('/usr/local/anaconda3/lib/python3.6/site-packages')\n",
    "\n",
    "import numpy\n",
    "#print(numpy.random.__doc__)\n",
    "#print(numpy.random.uniform.__doc__)\n",
    "\n",
    "a = 0\n",
    "b = 5\n",
    "N = 10000\n",
    "\n",
    "#(pseido)gadījumu skaitļu ģeneratora \"grauds\"\n",
    "#numpy.random.seed(1)\n",
    "\n",
    "x = numpy.random.uniform(a,b,N)\n",
    "#x = numpy.random.normal(a,b,N)\n",
    "\n",
    "k = [0, 0, 0, 0, 0]\n",
    "for i in range(N):\n",
    "    if x[i] < 1:\n",
    "        k[0] = k[0] + 1\n",
    "    elif x[i] < 2:\n",
    "        k[1] = k[1] + 1\n",
    "    elif x[i] < 3:\n",
    "        k[2] = k[2] + 1\n",
    "    elif x[i] < 4:\n",
    "        k[3] = k[3] + 1\n",
    "    else:\n",
    "        k[4] = k[4] + 1\n",
    "print(k)\n",
    "print(sum(k))\n",
    "\n",
    "y = numpy.random.uniform(a,b,N)\n",
    "\n",
    "from matplotlib import pyplot as plt\n",
    "plt.grid()\n",
    "plt.xlabel('x')\n",
    "plt.ylabel('f(x)')\n",
    "plt.title('Funkcija $cos(x)$')\n",
    "#plt.plot(x, y, 'ko')\n",
    "#print(x)\n",
    "#print(y)\n",
    "N1 = 0\n",
    "for i in range(N):\n",
    "    #print(i)\n",
    "    if y[i] < x[i]:\n",
    "        #print(x[i],y[i],'go')\n",
    "        plt.plot(x[i], y[i], 'go')\n",
    "        N1 = N1 + 1\n",
    "    else:\n",
    "        #print(x[i],y[i],'ro')\n",
    "        plt.plot(x[i], y[i], 'ro')\n",
    "\n",
    "#print(N1)\n",
    "S_zinaamais = (b-a) * (b-a)\n",
    "S_nezinaamais = 1. * S_zinaamais * N1 / N\n",
    "print(S_nezinaamais)\n",
    "\n",
    "plt.show()\n"
   ]
  },
  {
   "cell_type": "code",
   "execution_count": null,
   "metadata": {},
   "outputs": [],
   "source": []
  }
 ],
 "metadata": {
  "kernelspec": {
   "display_name": "Python 3",
   "language": "python",
   "name": "python3"
  },
  "language_info": {
   "codemirror_mode": {
    "name": "ipython",
    "version": 3
   },
   "file_extension": ".py",
   "mimetype": "text/x-python",
   "name": "python",
   "nbconvert_exporter": "python",
   "pygments_lexer": "ipython3",
   "version": "3.7.1"
  }
 },
 "nbformat": 4,
 "nbformat_minor": 2
}
